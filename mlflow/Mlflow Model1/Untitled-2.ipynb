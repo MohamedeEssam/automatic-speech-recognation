{
 "cells": [
  {
   "cell_type": "code",
   "execution_count": 2,
   "metadata": {},
   "outputs": [],
   "source": [
    "import mlflow \n",
    "import transformers"
   ]
  },
  {
   "cell_type": "code",
   "execution_count": 7,
   "metadata": {},
   "outputs": [],
   "source": [
    "import numpy"
   ]
  },
  {
   "cell_type": "code",
   "execution_count": 10,
   "metadata": {},
   "outputs": [
    {
     "name": "stdout",
     "output_type": "stream",
     "text": [
      "Requirement already satisfied: transformers[torch] in c:\\users\\rome\\anaconda3\\envs\\colabenv\\lib\\site-packages (4.45.2)\n",
      "Requirement already satisfied: filelock in c:\\users\\rome\\anaconda3\\envs\\colabenv\\lib\\site-packages (from transformers[torch]) (3.16.1)\n",
      "Requirement already satisfied: huggingface-hub<1.0,>=0.23.2 in c:\\users\\rome\\anaconda3\\envs\\colabenv\\lib\\site-packages (from transformers[torch]) (0.25.2)\n",
      "Requirement already satisfied: numpy>=1.17 in c:\\users\\rome\\anaconda3\\envs\\colabenv\\lib\\site-packages (from transformers[torch]) (1.23.5)\n",
      "Requirement already satisfied: packaging>=20.0 in c:\\users\\rome\\anaconda3\\envs\\colabenv\\lib\\site-packages (from transformers[torch]) (24.1)\n",
      "Requirement already satisfied: pyyaml>=5.1 in c:\\users\\rome\\anaconda3\\envs\\colabenv\\lib\\site-packages (from transformers[torch]) (6.0.2)\n",
      "Requirement already satisfied: regex!=2019.12.17 in c:\\users\\rome\\anaconda3\\envs\\colabenv\\lib\\site-packages (from transformers[torch]) (2024.9.11)\n",
      "Requirement already satisfied: requests in c:\\users\\rome\\anaconda3\\envs\\colabenv\\lib\\site-packages (from transformers[torch]) (2.32.3)\n",
      "Requirement already satisfied: safetensors>=0.4.1 in c:\\users\\rome\\anaconda3\\envs\\colabenv\\lib\\site-packages (from transformers[torch]) (0.4.5)\n",
      "Requirement already satisfied: tokenizers<0.21,>=0.20 in c:\\users\\rome\\anaconda3\\envs\\colabenv\\lib\\site-packages (from transformers[torch]) (0.20.1)\n",
      "Requirement already satisfied: tqdm>=4.27 in c:\\users\\rome\\anaconda3\\envs\\colabenv\\lib\\site-packages (from transformers[torch]) (4.66.5)\n",
      "Collecting accelerate>=0.26.0 (from transformers[torch])\n",
      "  Downloading accelerate-1.0.1-py3-none-any.whl.metadata (19 kB)\n",
      "Requirement already satisfied: torch in c:\\users\\rome\\anaconda3\\envs\\colabenv\\lib\\site-packages (from transformers[torch]) (2.4.1)\n",
      "Requirement already satisfied: psutil in c:\\users\\rome\\anaconda3\\envs\\colabenv\\lib\\site-packages (from accelerate>=0.26.0->transformers[torch]) (6.0.0)\n",
      "Requirement already satisfied: fsspec>=2023.5.0 in c:\\users\\rome\\anaconda3\\envs\\colabenv\\lib\\site-packages (from huggingface-hub<1.0,>=0.23.2->transformers[torch]) (2024.9.0)\n",
      "Requirement already satisfied: typing-extensions>=3.7.4.3 in c:\\users\\rome\\anaconda3\\envs\\colabenv\\lib\\site-packages (from huggingface-hub<1.0,>=0.23.2->transformers[torch]) (4.12.2)\n",
      "Requirement already satisfied: sympy in c:\\users\\rome\\anaconda3\\envs\\colabenv\\lib\\site-packages (from torch->transformers[torch]) (1.13.3)\n",
      "Requirement already satisfied: networkx in c:\\users\\rome\\anaconda3\\envs\\colabenv\\lib\\site-packages (from torch->transformers[torch]) (3.4.1)\n",
      "Requirement already satisfied: jinja2 in c:\\users\\rome\\anaconda3\\envs\\colabenv\\lib\\site-packages (from torch->transformers[torch]) (3.1.4)\n",
      "Requirement already satisfied: colorama in c:\\users\\rome\\anaconda3\\envs\\colabenv\\lib\\site-packages (from tqdm>=4.27->transformers[torch]) (0.4.6)\n",
      "Requirement already satisfied: charset-normalizer<4,>=2 in c:\\users\\rome\\anaconda3\\envs\\colabenv\\lib\\site-packages (from requests->transformers[torch]) (3.4.0)\n",
      "Requirement already satisfied: idna<4,>=2.5 in c:\\users\\rome\\anaconda3\\envs\\colabenv\\lib\\site-packages (from requests->transformers[torch]) (3.10)\n",
      "Requirement already satisfied: urllib3<3,>=1.21.1 in c:\\users\\rome\\anaconda3\\envs\\colabenv\\lib\\site-packages (from requests->transformers[torch]) (2.2.3)\n",
      "Requirement already satisfied: certifi>=2017.4.17 in c:\\users\\rome\\anaconda3\\envs\\colabenv\\lib\\site-packages (from requests->transformers[torch]) (2024.8.30)\n",
      "Requirement already satisfied: MarkupSafe>=2.0 in c:\\users\\rome\\anaconda3\\envs\\colabenv\\lib\\site-packages (from jinja2->torch->transformers[torch]) (3.0.1)\n",
      "Requirement already satisfied: mpmath<1.4,>=1.1.0 in c:\\users\\rome\\anaconda3\\envs\\colabenv\\lib\\site-packages (from sympy->torch->transformers[torch]) (1.3.0)\n",
      "Downloading accelerate-1.0.1-py3-none-any.whl (330 kB)\n",
      "Installing collected packages: accelerate\n",
      "Successfully installed accelerate-1.0.1\n"
     ]
    },
    {
     "name": "stderr",
     "output_type": "stream",
     "text": [
      "WARNING: Ignoring invalid distribution - (c:\\users\\rome\\anaconda3\\envs\\colabenv\\lib\\site-packages)\n",
      "WARNING: Ignoring invalid distribution -lflow (c:\\users\\rome\\anaconda3\\envs\\colabenv\\lib\\site-packages)\n",
      "WARNING: Ignoring invalid distribution -lflow-skinny (c:\\users\\rome\\anaconda3\\envs\\colabenv\\lib\\site-packages)\n",
      "WARNING: Ignoring invalid distribution - (c:\\users\\rome\\anaconda3\\envs\\colabenv\\lib\\site-packages)\n",
      "WARNING: Ignoring invalid distribution -lflow (c:\\users\\rome\\anaconda3\\envs\\colabenv\\lib\\site-packages)\n",
      "WARNING: Ignoring invalid distribution -lflow-skinny (c:\\users\\rome\\anaconda3\\envs\\colabenv\\lib\\site-packages)\n",
      "WARNING: Ignoring invalid distribution - (c:\\users\\rome\\anaconda3\\envs\\colabenv\\lib\\site-packages)\n",
      "WARNING: Ignoring invalid distribution -lflow (c:\\users\\rome\\anaconda3\\envs\\colabenv\\lib\\site-packages)\n",
      "WARNING: Ignoring invalid distribution -lflow-skinny (c:\\users\\rome\\anaconda3\\envs\\colabenv\\lib\\site-packages)\n"
     ]
    }
   ],
   "source": [
    "! pip install transformers[torch]"
   ]
  },
  {
   "cell_type": "code",
   "execution_count": 15,
   "metadata": {},
   "outputs": [
    {
     "name": "stdout",
     "output_type": "stream",
     "text": [
      "Name: accelerate\n",
      "Version: 1.0.1\n",
      "Summary: Accelerate\n",
      "Home-page: https://github.com/huggingface/accelerate\n",
      "Author: The HuggingFace team\n",
      "Author-email: zach.mueller@huggingface.co\n",
      "License: Apache\n",
      "Location: c:\\users\\rome\\anaconda3\\envs\\colabenv\\lib\\site-packages\n",
      "Requires: huggingface-hub, numpy, packaging, psutil, pyyaml, safetensors, torch\n",
      "Required-by: \n",
      "---\n",
      "Name: transformers\n",
      "Version: 4.45.2\n",
      "Summary: State-of-the-art Machine Learning for JAX, PyTorch and TensorFlow\n",
      "Home-page: https://github.com/huggingface/transformers\n",
      "Author: The Hugging Face team (past and future) with the help of all our contributors (https://github.com/huggingface/transformers/graphs/contributors)\n",
      "Author-email: transformers@huggingface.co\n",
      "License: Apache 2.0 License\n",
      "Location: c:\\users\\rome\\anaconda3\\envs\\colabenv\\lib\\site-packages\n",
      "Requires: filelock, huggingface-hub, numpy, packaging, pyyaml, regex, requests, safetensors, tokenizers, tqdm\n",
      "Required-by: \n",
      "---\n",
      "Name: torch\n",
      "Version: 2.4.1\n",
      "Summary: Tensors and Dynamic neural networks in Python with strong GPU acceleration\n",
      "Home-page: https://pytorch.org/\n",
      "Author: PyTorch Team\n",
      "Author-email: packages@pytorch.org\n",
      "License: BSD-3\n",
      "Location: c:\\users\\rome\\anaconda3\\envs\\colabenv\\lib\\site-packages\n",
      "Requires: filelock, fsspec, jinja2, networkx, sympy, typing-extensions\n",
      "Required-by: accelerate, torchaudio, torchvision\n"
     ]
    },
    {
     "name": "stderr",
     "output_type": "stream",
     "text": [
      "WARNING: Ignoring invalid distribution - (c:\\users\\rome\\anaconda3\\envs\\colabenv\\lib\\site-packages)\n",
      "WARNING: Ignoring invalid distribution -lflow (c:\\users\\rome\\anaconda3\\envs\\colabenv\\lib\\site-packages)\n",
      "WARNING: Ignoring invalid distribution -lflow-skinny (c:\\users\\rome\\anaconda3\\envs\\colabenv\\lib\\site-packages)\n"
     ]
    }
   ],
   "source": [
    "! pip show accelerate transformers torch\n"
   ]
  },
  {
   "cell_type": "code",
   "execution_count": 16,
   "metadata": {},
   "outputs": [
    {
     "name": "stdout",
     "output_type": "stream",
     "text": [
      "Requirement already satisfied: accelerate in c:\\users\\rome\\anaconda3\\envs\\colabenv\\lib\\site-packages (1.0.1)\n",
      "Requirement already satisfied: numpy<3.0.0,>=1.17 in c:\\users\\rome\\anaconda3\\envs\\colabenv\\lib\\site-packages (from accelerate) (1.23.5)\n",
      "Requirement already satisfied: packaging>=20.0 in c:\\users\\rome\\anaconda3\\envs\\colabenv\\lib\\site-packages (from accelerate) (24.1)\n",
      "Requirement already satisfied: psutil in c:\\users\\rome\\anaconda3\\envs\\colabenv\\lib\\site-packages (from accelerate) (6.0.0)\n",
      "Requirement already satisfied: pyyaml in c:\\users\\rome\\anaconda3\\envs\\colabenv\\lib\\site-packages (from accelerate) (6.0.2)\n",
      "Requirement already satisfied: torch>=1.10.0 in c:\\users\\rome\\anaconda3\\envs\\colabenv\\lib\\site-packages (from accelerate) (2.4.1)\n",
      "Requirement already satisfied: huggingface-hub>=0.21.0 in c:\\users\\rome\\anaconda3\\envs\\colabenv\\lib\\site-packages (from accelerate) (0.25.2)\n",
      "Requirement already satisfied: safetensors>=0.4.3 in c:\\users\\rome\\anaconda3\\envs\\colabenv\\lib\\site-packages (from accelerate) (0.4.5)\n",
      "Requirement already satisfied: filelock in c:\\users\\rome\\anaconda3\\envs\\colabenv\\lib\\site-packages (from huggingface-hub>=0.21.0->accelerate) (3.16.1)\n",
      "Requirement already satisfied: fsspec>=2023.5.0 in c:\\users\\rome\\anaconda3\\envs\\colabenv\\lib\\site-packages (from huggingface-hub>=0.21.0->accelerate) (2024.9.0)\n",
      "Requirement already satisfied: requests in c:\\users\\rome\\anaconda3\\envs\\colabenv\\lib\\site-packages (from huggingface-hub>=0.21.0->accelerate) (2.32.3)\n",
      "Requirement already satisfied: tqdm>=4.42.1 in c:\\users\\rome\\anaconda3\\envs\\colabenv\\lib\\site-packages (from huggingface-hub>=0.21.0->accelerate) (4.66.5)\n",
      "Requirement already satisfied: typing-extensions>=3.7.4.3 in c:\\users\\rome\\anaconda3\\envs\\colabenv\\lib\\site-packages (from huggingface-hub>=0.21.0->accelerate) (4.12.2)\n",
      "Requirement already satisfied: sympy in c:\\users\\rome\\anaconda3\\envs\\colabenv\\lib\\site-packages (from torch>=1.10.0->accelerate) (1.13.3)\n",
      "Requirement already satisfied: networkx in c:\\users\\rome\\anaconda3\\envs\\colabenv\\lib\\site-packages (from torch>=1.10.0->accelerate) (3.4.1)\n",
      "Requirement already satisfied: jinja2 in c:\\users\\rome\\anaconda3\\envs\\colabenv\\lib\\site-packages (from torch>=1.10.0->accelerate) (3.1.4)\n",
      "Requirement already satisfied: colorama in c:\\users\\rome\\anaconda3\\envs\\colabenv\\lib\\site-packages (from tqdm>=4.42.1->huggingface-hub>=0.21.0->accelerate) (0.4.6)\n",
      "Requirement already satisfied: MarkupSafe>=2.0 in c:\\users\\rome\\anaconda3\\envs\\colabenv\\lib\\site-packages (from jinja2->torch>=1.10.0->accelerate) (3.0.1)\n",
      "Requirement already satisfied: charset-normalizer<4,>=2 in c:\\users\\rome\\anaconda3\\envs\\colabenv\\lib\\site-packages (from requests->huggingface-hub>=0.21.0->accelerate) (3.4.0)\n",
      "Requirement already satisfied: idna<4,>=2.5 in c:\\users\\rome\\anaconda3\\envs\\colabenv\\lib\\site-packages (from requests->huggingface-hub>=0.21.0->accelerate) (3.10)\n",
      "Requirement already satisfied: urllib3<3,>=1.21.1 in c:\\users\\rome\\anaconda3\\envs\\colabenv\\lib\\site-packages (from requests->huggingface-hub>=0.21.0->accelerate) (2.2.3)\n",
      "Requirement already satisfied: certifi>=2017.4.17 in c:\\users\\rome\\anaconda3\\envs\\colabenv\\lib\\site-packages (from requests->huggingface-hub>=0.21.0->accelerate) (2024.8.30)\n",
      "Requirement already satisfied: mpmath<1.4,>=1.1.0 in c:\\users\\rome\\anaconda3\\envs\\colabenv\\lib\\site-packages (from sympy->torch>=1.10.0->accelerate) (1.3.0)\n"
     ]
    },
    {
     "name": "stderr",
     "output_type": "stream",
     "text": [
      "WARNING: Ignoring invalid distribution - (c:\\users\\rome\\anaconda3\\envs\\colabenv\\lib\\site-packages)\n",
      "WARNING: Ignoring invalid distribution -lflow (c:\\users\\rome\\anaconda3\\envs\\colabenv\\lib\\site-packages)\n",
      "WARNING: Ignoring invalid distribution -lflow-skinny (c:\\users\\rome\\anaconda3\\envs\\colabenv\\lib\\site-packages)\n",
      "WARNING: Ignoring invalid distribution - (c:\\users\\rome\\anaconda3\\envs\\colabenv\\lib\\site-packages)\n",
      "WARNING: Ignoring invalid distribution -lflow (c:\\users\\rome\\anaconda3\\envs\\colabenv\\lib\\site-packages)\n",
      "WARNING: Ignoring invalid distribution -lflow-skinny (c:\\users\\rome\\anaconda3\\envs\\colabenv\\lib\\site-packages)\n",
      "WARNING: Ignoring invalid distribution - (c:\\users\\rome\\anaconda3\\envs\\colabenv\\lib\\site-packages)\n",
      "WARNING: Ignoring invalid distribution -lflow (c:\\users\\rome\\anaconda3\\envs\\colabenv\\lib\\site-packages)\n",
      "WARNING: Ignoring invalid distribution -lflow-skinny (c:\\users\\rome\\anaconda3\\envs\\colabenv\\lib\\site-packages)\n"
     ]
    }
   ],
   "source": [
    "! pip install --upgrade accelerate\n"
   ]
  },
  {
   "cell_type": "code",
   "execution_count": 19,
   "metadata": {},
   "outputs": [
    {
     "name": "stderr",
     "output_type": "stream",
     "text": [
      "WARNING: Ignoring invalid distribution - (c:\\users\\rome\\anaconda3\\envs\\colabenv\\lib\\site-packages)\n",
      "WARNING: Ignoring invalid distribution -lflow (c:\\users\\rome\\anaconda3\\envs\\colabenv\\lib\\site-packages)\n",
      "WARNING: Ignoring invalid distribution -lflow-skinny (c:\\users\\rome\\anaconda3\\envs\\colabenv\\lib\\site-packages)\n",
      "WARNING: Ignoring invalid distribution - (c:\\users\\rome\\anaconda3\\envs\\colabenv\\lib\\site-packages)\n",
      "WARNING: Ignoring invalid distribution -lflow (c:\\users\\rome\\anaconda3\\envs\\colabenv\\lib\\site-packages)\n",
      "WARNING: Ignoring invalid distribution -lflow-skinny (c:\\users\\rome\\anaconda3\\envs\\colabenv\\lib\\site-packages)\n",
      "WARNING: Ignoring invalid distribution - (c:\\users\\rome\\anaconda3\\envs\\colabenv\\lib\\site-packages)\n",
      "WARNING: Ignoring invalid distribution -lflow (c:\\users\\rome\\anaconda3\\envs\\colabenv\\lib\\site-packages)\n",
      "WARNING: Ignoring invalid distribution -lflow-skinny (c:\\users\\rome\\anaconda3\\envs\\colabenv\\lib\\site-packages)\n"
     ]
    }
   ],
   "source": [
    "! pip install accelerate>={ACCELERATE_MIN_VERSION}"
   ]
  },
  {
   "cell_type": "code",
   "execution_count": null,
   "metadata": {},
   "outputs": [],
   "source": [
    "! pip uninstall mlflow mlflow-skinny\n",
    "! pip install mlflow\n",
    "! pip cache purge\n"
   ]
  },
  {
   "cell_type": "code",
   "execution_count": 3,
   "metadata": {},
   "outputs": [],
   "source": [
    "mlflow.set_tracking_uri(\"http://localhost:5000\")"
   ]
  },
  {
   "cell_type": "code",
   "execution_count": 8,
   "metadata": {},
   "outputs": [
    {
     "name": "stderr",
     "output_type": "stream",
     "text": [
      "2024/10/15 17:44:51 INFO mlflow.tracking._tracking_service.client: 🏃 View run hilarious-carp-11 at: http://localhost:5000/#/experiments/0/runs/66054a3f4282491f86b768eb619fc09b.\n",
      "2024/10/15 17:44:51 INFO mlflow.tracking._tracking_service.client: 🧪 View experiment at: http://localhost:5000/#/experiments/0.\n"
     ]
    },
    {
     "name": "stdout",
     "output_type": "stream",
     "text": [
      "Setup completed successfully.\n"
     ]
    }
   ],
   "source": [
    "from transformers import Trainer, TrainingArguments, pipeline\n",
    "import torch\n",
    "import mlflow\n",
    "\n",
    "# Initialize ASR model and pipeline\n",
    "pipe = pipeline(\"automatic-speech-recognition\", model=\"Messam174/wav2vec2-large-xls-r-300m-en\")\n",
    "sample_audio = torch.randn(16000)  # Simulated 1-second audio\n",
    "\n",
    "# Training arguments\n",
    "training_args = TrainingArguments(\n",
    "    output_dir=\"./results\",\n",
    "    per_device_train_batch_size=15,\n",
    "    learning_rate=0.0004,\n",
    "    num_train_epochs=3,\n",
    "    logging_dir=\"./logs\",\n",
    ")\n",
    "\n",
    "# Initialize the Trainer\n",
    "trainer = Trainer(\n",
    "    model=pipe.model,\n",
    "    args=training_args,\n",
    ")\n",
    "\n",
    "# Start an MLflow run\n",
    "with mlflow.start_run():\n",
    "    # Log hyperparameters\n",
    "    mlflow.log_params(training_args.to_dict())\n",
    "\n",
    "    # (Optional) Simulate training or log a dummy metric\n",
    "    # trainer.train()  # Uncomment this line to run training\n",
    "    mlflow.log_metric(\"train_loss\", 0.05)\n",
    "    artifact_path=\"model\",\n",
    "\n",
    "print(\"Setup completed successfully.\")\n"
   ]
  },
  {
   "cell_type": "code",
   "execution_count": 10,
   "metadata": {},
   "outputs": [
    {
     "name": "stderr",
     "output_type": "stream",
     "text": [
      "2024/10/15 18:00:53 WARNING mlflow.utils.environment: On Windows, timeout is not supported for model requirement inference. Therefore, the operation is not bound by a timeout and may hang indefinitely. If it hangs, please consider specifying the signature manually.\n",
      "Registered model 'Wav2Vec2_ASR_Model' already exists. Creating a new version of this model...\n",
      "2024/10/15 18:02:01 INFO mlflow.store.model_registry.abstract_store: Waiting up to 300 seconds for model version to finish creation. Model name: Wav2Vec2_ASR_Model, version 2\n",
      "Created version '2' of model 'Wav2Vec2_ASR_Model'.\n",
      "2024/10/15 18:02:01 INFO mlflow.tracking._tracking_service.client: 🏃 View run amusing-cow-230 at: http://localhost:5000/#/experiments/0/runs/524e8440a5094b0891f57f3fcf45ba02.\n",
      "2024/10/15 18:02:01 INFO mlflow.tracking._tracking_service.client: 🧪 View experiment at: http://localhost:5000/#/experiments/0.\n"
     ]
    },
    {
     "name": "stdout",
     "output_type": "stream",
     "text": [
      "Model and hyperparameters successfully tracked.\n"
     ]
    }
   ],
   "source": [
    "# Import necessary libraries\n",
    "from transformers import pipeline\n",
    "import mlflow\n",
    "\n",
    "# Initialize the ASR pipeline\n",
    "pipe = pipeline(\"automatic-speech-recognition\", model=\"Messam174/wav2vec2-large-xls-r-300m-en\")\n",
    "\n",
    "# Define the hyperparameters\n",
    "hyperparameters = {\n",
    "    \"learning_rate\": 0.0009,\n",
    "    \"train_batch_size\": 20,\n",
    "    \"eval_batch_size\": 8,\n",
    "    \"seed\": 42,\n",
    "    \"gradient_accumulation_steps\": 2,\n",
    "    \"total_train_batch_size\": 20,  # train_batch_size * gradient_accumulation_steps\n",
    "    \"optimizer\": \"Adam with betas=(0.9, 0.999) and epsilon=1e-08\",\n",
    "    \"lr_scheduler_type\": \"linear\",\n",
    "    \"lr_scheduler_warmup_steps\": 500,\n",
    "    \"num_epochs\": 15\n",
    "}\n",
    "\n",
    "# Start an MLflow run\n",
    "with mlflow.start_run():\n",
    "    # Log hyperparameters to MLflow\n",
    "    mlflow.log_params(hyperparameters)\n",
    "\n",
    "    # Log the Wav2Vec2 pipeline model with MLflow\n",
    "    mlflow.transformers.log_model(\n",
    "        transformers_model=pipe,\n",
    "        artifact_path=\"model\",\n",
    "        registered_model_name=\"Wav2Vec2_ASR_Model\"  # Optional: Register the model\n",
    "    )\n",
    "\n",
    "print(\"Model and hyperparameters successfully tracked.\")\n"
   ]
  }
 ],
 "metadata": {
  "kernelspec": {
   "display_name": "colabenv",
   "language": "python",
   "name": "python3"
  },
  "language_info": {
   "codemirror_mode": {
    "name": "ipython",
    "version": 3
   },
   "file_extension": ".py",
   "mimetype": "text/x-python",
   "name": "python",
   "nbconvert_exporter": "python",
   "pygments_lexer": "ipython3",
   "version": "3.10.12"
  }
 },
 "nbformat": 4,
 "nbformat_minor": 2
}
